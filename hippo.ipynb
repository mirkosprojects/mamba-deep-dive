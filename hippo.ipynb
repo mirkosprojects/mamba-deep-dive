{
 "cells": [
  {
   "cell_type": "markdown",
   "id": "f622ab17",
   "metadata": {},
   "source": [
    "# Simple Demonstration for HiPPO Functionality\n",
    "This code adapts and simplifies the core functionality from [HiPPO demonstration](https://github.com/state-spaces/s4/blob/main/notebooks/hippo_function_approximation.ipynb) of the official S4 repository.\n",
    "\n",
    "It shows in detail the following concepts\n",
    "- Generation of the $A$ and $B$ matrices using the scaled legendre measure\n",
    "- Discretization of the $A$ and $B$ matrices using the bilinear transform\n",
    "- Projection of a function $f(t)$ into the coefficients $c$\n",
    "- Construction of the approximation $g(t)$ from the coefficients $c$\n",
    "\n",
    "It also provides a function to generate a random whitenoise signal, which has been copied over from the original notebook."
   ]
  },
  {
   "cell_type": "code",
   "execution_count": null,
   "id": "9bef21a3",
   "metadata": {},
   "outputs": [],
   "source": [
    "import numpy as np\n",
    "import matplotlib.pyplot as plt\n",
    "from scipy.special import eval_legendre"
   ]
  },
  {
   "cell_type": "markdown",
   "id": "3939e910",
   "metadata": {},
   "source": [
    "## Generating the HiPPO LegS matrices $A$ and $B$\n",
    "For the scaled Legendre Measure (HiPPO-LegS) the matrices are defined as follows.\n",
    "$$\n",
    "\\begin{aligned}\n",
    "A_{nk} &= \\begin{cases}\\begin{aligned}&(2n+1)^\\frac{1}{2}(2k+1)^\\frac{1}{2} &if\\ n>k\\\\&n+1 &if\\ n=k\\\\&0 &if\\ n<k\\\\\\end{aligned}\\end{cases}\\\\\n",
    "B_n &= (2n+1)^\\frac{1}{2}\n",
    "\\end{aligned}\n",
    "$$"
   ]
  },
  {
   "cell_type": "code",
   "execution_count": null,
   "id": "08f7969f",
   "metadata": {},
   "outputs": [],
   "source": [
    "def hippo_legs(N: int) -> tuple[np.ndarray, np.ndarray]:\n",
    "    \"\"\"\n",
    "    Initializes HiPPO-LegS matrices A and B.\n",
    "\n",
    "    Parameters:\n",
    "        N (int): number of Legendre polynomials to use\n",
    "\n",
    "    Returns:\n",
    "        (A, B) (ndarray, ndarray): state transition matrix A and input matrix B\n",
    "    \"\"\"\n",
    "    A = np.zeros((N, N))\n",
    "    B = np.zeros((N,))\n",
    "    for n in range(N):\n",
    "        B[n] = np.sqrt(2*n + 1)\n",
    "        for k in range(N):\n",
    "            if n > k:\n",
    "                A[n, k] = - (np.sqrt(2*n + 1) * np.sqrt(2*k + 1))\n",
    "            elif n == k:\n",
    "                A[n, k] = - (n + 1)\n",
    "            else:\n",
    "                A[n, k] = 0\n",
    "    return A, B"
   ]
  },
  {
   "cell_type": "code",
   "execution_count": null,
   "id": "224c2e06",
   "metadata": {},
   "outputs": [],
   "source": [
    "# Show the matrices A and B for N=4\n",
    "A, B = hippo_legs(4)\n",
    "display(A)\n",
    "display(B)"
   ]
  },
  {
   "cell_type": "markdown",
   "id": "ff2d3215",
   "metadata": {},
   "source": [
    "## Discretization of the A and B matrices\n",
    "The $A$ and $B$ matrices can be discretized using the Bilinear Transform.\n",
    "$$\n",
    "\\begin{aligned}\n",
    "\\bar{A}&=(I-\\frac{\\Delta}{2}A)^{-1}\\cdot(I+\\frac{\\Delta}{2}A)\\\\\n",
    "\\bar{B}&=(I-\\frac{\\Delta}{2}A)^{-1}\\cdot \\Delta B\n",
    "\\end{aligned}\n",
    "$$"
   ]
  },
  {
   "cell_type": "code",
   "execution_count": null,
   "id": "3aab6b91",
   "metadata": {},
   "outputs": [],
   "source": [
    "def discretize_hippo(A: np.ndarray, B: np.ndarray, dt: float) -> tuple[np.ndarray, np.ndarray]:\n",
    "    \"\"\"\n",
    "    Converts continuous-time matrices A, B into discrete-time versions using the bilinear transform.\n",
    "\n",
    "    Parameters:\n",
    "        A (ndarray): continuous-time state transition matrix\n",
    "        B (ndarray): continuous-time input matrix\n",
    "        dt (float): time step for discretization\n",
    "    \n",
    "    Returns:\n",
    "        (A_d, B_d) (ndarray, ndarray): discrete-time state transition matrix A_d and discrete-time input matrix B_d\n",
    "    \"\"\"\n",
    "    I = np.eye(A.shape[0])\n",
    "    A_d = np.linalg.inv(I - 0.5 * A * dt) @ (I + 0.5 * A * dt)\n",
    "    B_d = np.linalg.inv(I - 0.5 * A * dt) @ (B * dt)\n",
    "\n",
    "    # Alternatively, using solve_triangular for better numerical stability and faster computation\n",
    "    # A_d = la.solve_triangular(I - 0.5 * A * dt, I + 0.5 * A * dt, lower=True)\n",
    "    # B_d = la.solve_triangular(I - 0.5 * A * dt, B * dt, lower=True)\n",
    "    return A_d, B_d"
   ]
  },
  {
   "cell_type": "code",
   "execution_count": null,
   "id": "4ed22573",
   "metadata": {},
   "outputs": [],
   "source": [
    "# Show the discretized matrices for dt=0.1\n",
    "A_d, B_d = discretize_hippo(A, B, 0.1)\n",
    "display(A_d)\n",
    "display(B_d)"
   ]
  },
  {
   "cell_type": "markdown",
   "id": "3093126c",
   "metadata": {},
   "source": [
    "## Projection of a function $f(t)$ into coefficients $c$\n",
    "We can project the function $f(t)$ into a basis of legendre polynomials. This yields the coefficients $c$.\n",
    "\n",
    "We do this by iteratively applying the State equation.\n",
    "\n",
    "$$\n",
    "c_k = \\bar{A}c_{k-1} + \\bar{B}f_{k}\n",
    "$$\n",
    "\n",
    "We take the final coefficients as a result.\n",
    "\n",
    "**TODO: is this correct?**"
   ]
  },
  {
   "cell_type": "code",
   "execution_count": null,
   "id": "6a2d930c",
   "metadata": {},
   "outputs": [],
   "source": [
    "def project_function(f: np.ndarray, A: np.ndarray, B: np.ndarray) -> np.ndarray:\n",
    "    \"\"\"\n",
    "    Projects a time-series f(t) into a coefficient vector c representing the Legendre polynomial expansion.\\\\\n",
    "    Each time step updates the coefficients using the discretized HiPPO system.\n",
    "\n",
    "    Parameters:\n",
    "        f (ndarray): time-series data to project\n",
    "        A (ndarray): state transition matrix\n",
    "        B (ndarray): input matrix\n",
    "\n",
    "    Returns:\n",
    "        c (ndarray): coefficients of the Legendre polynomial expansion\n",
    "    \"\"\"\n",
    "    c = np.zeros_like(B)\n",
    "    for i, f_t in enumerate(f):\n",
    "        A_t = A / (i + 1)   # TODO: why???\n",
    "        B_t = B / (i + 1)\n",
    "        A_d, B_d = discretize_hippo(A_t, B_t, 1.0)  # dt=1 since scale handles time\n",
    "        c = A_d @ c + B_d * f_t     # iteratively apply state equation to update coefficients\n",
    "    return c"
   ]
  },
  {
   "cell_type": "markdown",
   "id": "82052eea",
   "metadata": {},
   "source": [
    "## Reconstruction of the approximation $g(t)$\n",
    "We can construct the approximation $g(t) \\approx f(t)$ by evaluating the legendre polynomials $P_i$, weighting them with the corresponding coefficients $c_i$ and summing the results.\n",
    "\n",
    "$$\n",
    "g(t) = \\sum_{i=0}^N c_i P_i(t)\n",
    "$$"
   ]
  },
  {
   "cell_type": "code",
   "execution_count": null,
   "id": "3c809b81",
   "metadata": {},
   "outputs": [],
   "source": [
    "def reconstruct_function(c: np.ndarray, n_samples: int) -> np.ndarray:\n",
    "    \"\"\"\n",
    "    Given Legendre coefficients c, reconstruct the function approximation.\n",
    "\n",
    "    Parameters:\n",
    "        c (ndarray): coefficients of the Legendre polynomial expansion\n",
    "        n_samples (int): number of samples to generate for the approximation\n",
    "\n",
    "    Returns:\n",
    "        approx (ndarray): reconstructed function values\n",
    "    \"\"\"\n",
    "    t = np.linspace(-1, 1, n_samples)   # Legendre polynomials are defined on [-1, 1]\n",
    "    approx = np.zeros_like(t)\n",
    "    for i, c_i in enumerate(c):\n",
    "        P_i = eval_legendre(i, t)\n",
    "        approx += c_i * P_i\n",
    "    return approx"
   ]
  },
  {
   "cell_type": "code",
   "execution_count": null,
   "id": "06571910",
   "metadata": {},
   "outputs": [],
   "source": [
    "# Plot the first 5 legendre polynomials and a reconstructed function using random coefficients\n",
    "c = [0.1, 0.2, 0.7, -0.3, -0.1]\n",
    "n_samples = 1000\n",
    "t = np.linspace(-1, 1, n_samples)\n",
    "\n",
    "# Plot legendre polynomials\n",
    "plt.figure(figsize=(12, 6))\n",
    "for i, c_i in enumerate(c):\n",
    "    P_i = eval_legendre(i, t)\n",
    "    plt.plot(t, P_i, label=f'$P_{i}(t)$')\n",
    "\n",
    "# Plot the reconstruction\n",
    "approx = reconstruct_function(c, n_samples)\n",
    "plt.plot(t, approx, label=r'$\\sum c_i \\cdot P_i(t)$', linestyle='--', color='black')\n",
    "\n",
    "plt.title(f'First {len(c)} Legendre Polynomials and Function Reconstruction')\n",
    "plt.xlabel('t')\n",
    "plt.ylabel('Signal Value')\n",
    "plt.legend(loc='lower right')"
   ]
  },
  {
   "cell_type": "markdown",
   "id": "72ead6bc",
   "metadata": {},
   "source": [
    "## Synthetic Data Generation\n",
    "Helper function to generate a band-limited signal.  \n",
    "Copied from [https://github.com/state-spaces/s4/blob/main/notebooks/hippo_function_approximation.ipynb](https://github.com/state-spaces/s4/blob/main/notebooks/hippo_function_approximation.ipynb)."
   ]
  },
  {
   "cell_type": "code",
   "execution_count": null,
   "id": "06499841",
   "metadata": {},
   "outputs": [],
   "source": [
    "def whitesignal(period, dt, freq, rms=0.5):\n",
    "    \"\"\"\n",
    "    Produces output signal of length period / dt, band-limited to frequency freq\\\\\n",
    "    Adapted from the nengo library\n",
    "    \"\"\"\n",
    "\n",
    "    if freq is not None and freq < 1. / period:\n",
    "        raise ValueError(f\"Make ``{freq=} >= 1. / {period=}`` to produce a non-zero signal\",)\n",
    "\n",
    "    nyquist_cutoff = 0.5 / dt\n",
    "    if freq > nyquist_cutoff:\n",
    "        raise ValueError(f\"{freq} must not exceed the Nyquist frequency for the given dt ({nyquist_cutoff:0.3f})\")\n",
    "\n",
    "    n_coefficients = int(np.ceil(period / dt / 2.))\n",
    "    shape = (n_coefficients + 1,)\n",
    "    sigma = rms * np.sqrt(0.5)\n",
    "    coefficients = 1j * np.random.normal(0., sigma, size=shape)\n",
    "    coefficients[..., -1] = 0.\n",
    "    coefficients += np.random.normal(0., sigma, size=shape)\n",
    "    coefficients[..., 0] = 0.\n",
    "\n",
    "    set_to_zero = np.fft.rfftfreq(2 * n_coefficients, d=dt) > freq\n",
    "    coefficients *= (1-set_to_zero)\n",
    "    power_correction = np.sqrt(1. - np.sum(set_to_zero, dtype=float) / n_coefficients)\n",
    "    if power_correction > 0.: coefficients /= power_correction\n",
    "    coefficients *= np.sqrt(2 * n_coefficients)\n",
    "    signal = np.fft.irfft(coefficients, axis=-1)\n",
    "    signal = signal - signal[..., :1]  # Start from 0\n",
    "    return signal"
   ]
  },
  {
   "cell_type": "markdown",
   "id": "8328c559",
   "metadata": {},
   "source": [
    "## Approximating a signal using HiPPO\n",
    "The code below approximates a signal $f(t) \\approx g(t)$ by projecting it into a basis of legendre polynomials and then reconstring it using the coefficients $c$.\n",
    "\n",
    "Note that we use a very small number of legendre polynomials to make the difference between $f(t)$ and $g(t)$ in the plot more visible. Using more polynomials leads to much results."
   ]
  },
  {
   "cell_type": "code",
   "execution_count": null,
   "id": "d86029aa",
   "metadata": {},
   "outputs": [],
   "source": [
    "# Plotting the original and approximated signal\n",
    "\n",
    "# Parameters\n",
    "T=2         # Time period\n",
    "dt=1e-3     # Time step\n",
    "N=20        # Number of Legendre polynomials (Choose N=32 for near perfect approximation!)\n",
    "freq=3.0    # Frequency of the signal\n",
    "np.random.seed(42)  # For reproducibility\n",
    "\n",
    "# Original signal\n",
    "t = np.arange(0.0, T, dt)\n",
    "f_t = whitesignal(T, dt, freq=freq)\n",
    "\n",
    "# Approximated signal\n",
    "A, B = hippo_legs(N)\n",
    "c = project_function(f_t, A, B)\n",
    "c_scaled = B * c    # Scale the coefficients with B because legendre polynomials aren't orthonormal\n",
    "g_t = reconstruct_function(c_scaled, len(t))\n",
    "\n",
    "# Plotting the results\n",
    "plt.figure(figsize=(16, 6))\n",
    "plt.plot(t, f_t, color='blue', label='Input Signal $f(t)$')\n",
    "plt.plot(t, g_t, color='orange', linestyle='dashed', label='HiPPO Approximation $g(t)$')\n",
    "plt.fill_between(t, f_t, g_t, color='red', alpha=0.3, label='Error')\n",
    "\n",
    "plt.title('HiPPO-LegS Signal Approximation')\n",
    "plt.xlabel('t')\n",
    "plt.ylabel('Signal Value')\n",
    "plt.legend(loc='upper right')\n",
    "plt.show()\n",
    "plt.close()"
   ]
  }
 ],
 "metadata": {
  "kernelspec": {
   "display_name": "deepLearning",
   "language": "python",
   "name": "python3"
  },
  "language_info": {
   "codemirror_mode": {
    "name": "ipython",
    "version": 3
   },
   "file_extension": ".py",
   "mimetype": "text/x-python",
   "name": "python",
   "nbconvert_exporter": "python",
   "pygments_lexer": "ipython3",
   "version": "3.12.5"
  }
 },
 "nbformat": 4,
 "nbformat_minor": 5
}
