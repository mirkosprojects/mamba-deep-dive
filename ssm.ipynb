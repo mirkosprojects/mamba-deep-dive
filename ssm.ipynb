{
 "cells": [
  {
   "cell_type": "markdown",
   "id": "5419590b",
   "metadata": {},
   "source": [
    "# Demonstration of SSM Functionality\n",
    "This Jupyter Notebook gives an overview of the functionality of State Space Models (SSMs)\n",
    "\n",
    "The code is adapted and simplified from [The Annotated S4](https://srush.github.io/annotated-s4/)."
   ]
  },
  {
   "cell_type": "code",
   "execution_count": null,
   "id": "f0e9f3e7",
   "metadata": {},
   "outputs": [],
   "source": [
    "import numpy as np\n",
    "import matplotlib.pyplot as plt\n",
    "from celluloid import Camera\n",
    "from IPython.display import Image, Video, HTML"
   ]
  },
  {
   "cell_type": "markdown",
   "id": "2bcfe2a1",
   "metadata": {},
   "source": [
    "## Discretization\n",
    "Discretization will be explained in a later chapter.\n",
    "\n",
    "For now, please note that the SSM can be used in a continuous or discrete context. Since we want to work in a discrete context in this Notebook, we first discretize it."
   ]
  },
  {
   "cell_type": "code",
   "execution_count": null,
   "id": "63179f44",
   "metadata": {},
   "outputs": [],
   "source": [
    "def discretize(A: np.ndarray, B: np.ndarray, dt: float) -> tuple[np.ndarray, np.ndarray]:\n",
    "    \"\"\"\n",
    "    Converts continuous-time matrices A, B into discrete-time versions using the bilinear transform.\n",
    "\n",
    "    Parameters:\n",
    "        A (ndarray): continuous-time state transition matrix\n",
    "        B (ndarray): continuous-time input matrix\n",
    "        dt (float): time step for discretization\n",
    "    \n",
    "    Returns:\n",
    "        (A_d, B_d) (ndarray, ndarray): discrete-time state transition matrix A_d and discrete-time input matrix B_d\n",
    "    \"\"\"\n",
    "    I = np.eye(A.shape[0])\n",
    "    A_d = np.linalg.inv(I - 0.5 * A * dt) @ (I + 0.5 * A * dt)\n",
    "    B_d = np.linalg.inv(I - 0.5 * A * dt) @ (B * dt)\n",
    "\n",
    "    # Alternatively, using solve_triangular for better numerical stability and faster computation\n",
    "    # A_d = la.solve_triangular(I - 0.5 * A * dt, I + 0.5 * A * dt, lower=True)\n",
    "    # B_d = la.solve_triangular(I - 0.5 * A * dt, B * dt, lower=True)\n",
    "    return A_d, B_d"
   ]
  },
  {
   "cell_type": "markdown",
   "id": "761433da",
   "metadata": {},
   "source": [
    "## Recurrent Calculation of the Output\n",
    "The SSM is given in a continuous context as:\n",
    "$$\n",
    "\\begin{aligned}\n",
    "x'(t) &= Ax(t) + Bu(t) &&\\text{(State Equation)}\\\\\n",
    "y(t) &= Cx(t) + Du(t) &&\\text{(Output Equation)}\n",
    "\\end{aligned}\n",
    "$$\n",
    "\n",
    "The discretized version is:\n",
    "\n",
    "$$\n",
    "\\begin{aligned}\n",
    "x_k &= \\bar{A}x_{k-1} + \\bar{B}u_{k} &&\\text{(State Equation)}\\\\\n",
    "y_k &= Cx_k &&\\text{(Output Equation)}\n",
    "\\end{aligned}\n",
    "$$\n",
    "\n",
    "We can recurrently calculate the state $x_k$ and output $y_k$, which we implemented in the `step_SSM()` and `run_SSM` functions."
   ]
  },
  {
   "cell_type": "code",
   "execution_count": null,
   "id": "b1e70648",
   "metadata": {},
   "outputs": [],
   "source": [
    "def step_SSM(A: np.ndarray, B: np.ndarray, C: np.ndarray, x_k: np.ndarray, u_k: np.ndarray):\n",
    "    \"\"\"Calculates the next step x_k+1 and y_k+1 for the SSM\"\"\"\n",
    "    x_k = A @ x_k + B * u_k\n",
    "    y_k = C @ x_k\n",
    "    return x_k, y_k"
   ]
  },
  {
   "cell_type": "code",
   "execution_count": null,
   "id": "5b155281",
   "metadata": {},
   "outputs": [],
   "source": [
    "def run_SSM(A: np.ndarray, B: np.ndarray, C: np.ndarray, x0: np.ndarray, u: np.ndarray):\n",
    "    \"\"\"Runs the SSM recurrently over all inputs u\"\"\"\n",
    "    y = np.zeros_like(u)\n",
    "    x_k = x0\n",
    "    for idx, u_k in enumerate(u):\n",
    "        x_k, y_k = step_SSM(A, B, C, x_k, u_k)\n",
    "        y[idx] = y_k.squeeze()  # Remove dimensions\n",
    "    return y"
   ]
  },
  {
   "cell_type": "markdown",
   "id": "b133d9ab",
   "metadata": {},
   "source": [
    "## Example: Spring System\n",
    "The following code gives an example of a mass attached to a wall with a spring.\n",
    "We give it an input force and using the SSM, we can calculate the position of the mass.\n",
    "\n",
    "The derivation for the $A$, $B$ and $C$ matrices is given in the article."
   ]
  },
  {
   "cell_type": "code",
   "execution_count": null,
   "id": "91db9bf1",
   "metadata": {},
   "outputs": [],
   "source": [
    "# Parameters\n",
    "k = 40\n",
    "b = 5\n",
    "m = 1\n",
    "\n",
    "# Initialize SSM Matrices\n",
    "A = np.array([[0, 1], \n",
    "              [-k/m, -b/m]])\n",
    "B = np.array([[0], \n",
    "              [1.0/m]])\n",
    "C = np.array([[1.0, 0]])\n",
    "\n",
    "# Generate an Input Signal\n",
    "L = 200\n",
    "step = 1.0 / L\n",
    "ks = np.arange(L)\n",
    "x = np.sin(10 * ks * step)\n",
    "u = x * (x > 0.5)\n",
    "\n",
    "# Discretize the SSM\n",
    "A, B = discretize(A, B, step)\n",
    "\n",
    "# Run the SSM\n",
    "x_0 = np.ones_like(B) * 0.001\n",
    "y = run_SSM(A, B, C, x_0, u)"
   ]
  },
  {
   "cell_type": "code",
   "execution_count": null,
   "id": "a71a35c3",
   "metadata": {},
   "outputs": [],
   "source": [
    "# Plot Parameters\n",
    "mass_width = 0.0016\n",
    "mass_height = 0.1\n",
    "spring_height = 0.05\n",
    "num_coils = 15\n",
    "wall_x = 0\n",
    "time_s = 5\n",
    "\n",
    "fig, (ax1, ax2, ax3) = plt.subplots(3, figsize=(12, 8))\n",
    "camera = Camera(fig)\n",
    "ax1.set_title(\"Force $u_k$\")\n",
    "ax2.set_title(\"Position $y_k$\")\n",
    "ax3.set_title(\"Object\")\n",
    "ax1.set_xticks([], [])\n",
    "ax2.set_xticks([], [])\n",
    "ax3.set_xticks([], [])\n",
    "ax3.set_xlim(-0.4 * max(y), 1.4 * max(y))\n",
    "ax3.set_ylim(-0.2, 0.2)\n",
    "fig.tight_layout()\n",
    "\n",
    "# Animate plot over time\n",
    "for k in range(0, L):\n",
    "    # Plot applied force\n",
    "    ax1.plot(ks[:k], u[:k], color=\"red\")\n",
    "\n",
    "    # Plot object position\n",
    "    ax2.plot(ks[:k], y[:k], color=\"blue\")\n",
    "\n",
    "    # Plot wall\n",
    "    ax3.plot([wall_x, wall_x], [-0.2, 0.2], color='black', linewidth=2)\n",
    "\n",
    "    # Plot spring\n",
    "    spring_x = np.linspace(wall_x, y[k], num=500)\n",
    "    spring_y = (spring_height / 2) * np.sin(2 * np.pi * num_coils * np.linspace(0, 1, len(spring_x)))\n",
    "    ax3.plot(spring_x, spring_y, color=\"gray\", linewidth=2)\n",
    "\n",
    "    # Plot Mass\n",
    "    mass = plt.Rectangle((y[k], -mass_height / 2),\n",
    "                        mass_width, mass_height,\n",
    "                        fc=\"steelblue\", ec=\"black\")\n",
    "    ax3.add_patch(mass)\n",
    "\n",
    "    camera.snap()\n",
    "\n",
    "interval = int(time_s * 1000 / L)\n",
    "anim = camera.animate(interval=interval)\n",
    "\n",
    "# Save the animation\n",
    "anim.save(\"media/ssm.gif\", dpi=150)\n",
    "# Image(\"line.gif\")\n",
    "# anim.save(\"line.mp4\", fps=25)\n",
    "# Video(\"line.mp4\")\n",
    "\n",
    "# Show the animation\n",
    "plt.close()\n",
    "HTML(anim.to_html5_video())"
   ]
  },
  {
   "cell_type": "markdown",
   "id": "8a3152b5",
   "metadata": {},
   "source": [
    "## Convolution\n",
    "**TODO:** Add code to explain the convolutional representation of the SSM.\n",
    "\n",
    "$$\n",
    "y = \\bar{K} * u\n",
    "$$"
   ]
  },
  {
   "cell_type": "markdown",
   "id": "1d184fb9",
   "metadata": {},
   "source": [
    "## Linear State Space Layer (LSSL)\n",
    "**TODO:** After presenting all concepts of the SSM (Discretization, Recurrent Representation, Convolution), add some code that puts everything into one LSSL class.\n",
    "\n",
    "Reference: https://tinkerd.net/blog/machine-learning/state-space-models/#linear-state-space-layers-lssl\n"
   ]
  }
 ],
 "metadata": {
  "kernelspec": {
   "display_name": "deepLearning",
   "language": "python",
   "name": "python3"
  },
  "language_info": {
   "codemirror_mode": {
    "name": "ipython",
    "version": 3
   },
   "file_extension": ".py",
   "mimetype": "text/x-python",
   "name": "python",
   "nbconvert_exporter": "python",
   "pygments_lexer": "ipython3",
   "version": "3.12.5"
  }
 },
 "nbformat": 4,
 "nbformat_minor": 5
}
